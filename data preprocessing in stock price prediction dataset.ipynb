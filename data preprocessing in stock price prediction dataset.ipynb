{
 "cells": [
  {
   "cell_type": "markdown",
   "id": "ebdc956e",
   "metadata": {},
   "source": [
    "# IMPLEMENTATION OF DATA PREPROCESSING "
   ]
  },
  {
   "cell_type": "markdown",
   "id": "3550c77d",
   "metadata": {},
   "source": [
    "# BML Assignment 1:"
   ]
  },
  {
   "cell_type": "markdown",
   "id": "9d393fb4",
   "metadata": {},
   "source": [
    "Name: M.Selvi"
   ]
  },
  {
   "cell_type": "markdown",
   "id": "6c347862",
   "metadata": {},
   "source": [
    "Dept:B.Tech(AI & DS)\n"
   ]
  },
  {
   "cell_type": "markdown",
   "id": "e081d0b7",
   "metadata": {},
   "source": [
    "Section:'A'-II year"
   ]
  },
  {
   "cell_type": "markdown",
   "id": "8ec09eb6",
   "metadata": {},
   "source": [
    "Register No:21UAI077"
   ]
  },
  {
   "cell_type": "code",
   "execution_count": 1,
   "id": "a0a15bed",
   "metadata": {},
   "outputs": [],
   "source": [
    "#1.IMPORTING LIBRARIES\n",
    "import numpy as np # numerical data\n",
    "import pandas as pd #analyzing the data in dataframe and series"
   ]
  },
  {
   "cell_type": "code",
   "execution_count": 2,
   "id": "b72eb6c7",
   "metadata": {},
   "outputs": [
    {
     "data": {
      "text/html": [
       "<div>\n",
       "<style scoped>\n",
       "    .dataframe tbody tr th:only-of-type {\n",
       "        vertical-align: middle;\n",
       "    }\n",
       "\n",
       "    .dataframe tbody tr th {\n",
       "        vertical-align: top;\n",
       "    }\n",
       "\n",
       "    .dataframe thead th {\n",
       "        text-align: right;\n",
       "    }\n",
       "</style>\n",
       "<table border=\"1\" class=\"dataframe\">\n",
       "  <thead>\n",
       "    <tr style=\"text-align: right;\">\n",
       "      <th></th>\n",
       "      <th>Date</th>\n",
       "      <th>Open</th>\n",
       "      <th>High</th>\n",
       "      <th>Low</th>\n",
       "      <th>Close</th>\n",
       "      <th>Adj Close</th>\n",
       "      <th>Volume</th>\n",
       "    </tr>\n",
       "  </thead>\n",
       "  <tbody>\n",
       "    <tr>\n",
       "      <th>0</th>\n",
       "      <td>29-06-2010</td>\n",
       "      <td>19.000000</td>\n",
       "      <td>25.000000</td>\n",
       "      <td>17.540001</td>\n",
       "      <td>23.889999</td>\n",
       "      <td>23.889999</td>\n",
       "      <td>18766300.0</td>\n",
       "    </tr>\n",
       "    <tr>\n",
       "      <th>1</th>\n",
       "      <td>30-06-2010</td>\n",
       "      <td>25.790001</td>\n",
       "      <td>30.420000</td>\n",
       "      <td>23.299999</td>\n",
       "      <td>23.830000</td>\n",
       "      <td>23.830000</td>\n",
       "      <td>17187100.0</td>\n",
       "    </tr>\n",
       "    <tr>\n",
       "      <th>2</th>\n",
       "      <td>01-07-2010</td>\n",
       "      <td>25.000000</td>\n",
       "      <td>25.920000</td>\n",
       "      <td>20.270000</td>\n",
       "      <td>21.959999</td>\n",
       "      <td>21.959999</td>\n",
       "      <td>8218800.0</td>\n",
       "    </tr>\n",
       "    <tr>\n",
       "      <th>3</th>\n",
       "      <td>02-07-2010</td>\n",
       "      <td>23.000000</td>\n",
       "      <td>23.100000</td>\n",
       "      <td>18.709999</td>\n",
       "      <td>19.200001</td>\n",
       "      <td>19.200001</td>\n",
       "      <td>5139800.0</td>\n",
       "    </tr>\n",
       "    <tr>\n",
       "      <th>4</th>\n",
       "      <td>06-07-2010</td>\n",
       "      <td>20.000000</td>\n",
       "      <td>20.000000</td>\n",
       "      <td>15.830000</td>\n",
       "      <td>16.110001</td>\n",
       "      <td>16.110001</td>\n",
       "      <td>6866900.0</td>\n",
       "    </tr>\n",
       "    <tr>\n",
       "      <th>...</th>\n",
       "      <td>...</td>\n",
       "      <td>...</td>\n",
       "      <td>...</td>\n",
       "      <td>...</td>\n",
       "      <td>...</td>\n",
       "      <td>...</td>\n",
       "      <td>...</td>\n",
       "    </tr>\n",
       "    <tr>\n",
       "      <th>2411</th>\n",
       "      <td>28-01-2020</td>\n",
       "      <td>568.489990</td>\n",
       "      <td>576.809998</td>\n",
       "      <td>558.080017</td>\n",
       "      <td>566.900024</td>\n",
       "      <td>566.900024</td>\n",
       "      <td>11788500.0</td>\n",
       "    </tr>\n",
       "    <tr>\n",
       "      <th>2412</th>\n",
       "      <td>29-01-2020</td>\n",
       "      <td>575.690002</td>\n",
       "      <td>589.799988</td>\n",
       "      <td>567.429993</td>\n",
       "      <td>580.989990</td>\n",
       "      <td>580.989990</td>\n",
       "      <td>17801500.0</td>\n",
       "    </tr>\n",
       "    <tr>\n",
       "      <th>2413</th>\n",
       "      <td>30-01-2020</td>\n",
       "      <td>632.419983</td>\n",
       "      <td>650.880005</td>\n",
       "      <td>618.000000</td>\n",
       "      <td>640.809998</td>\n",
       "      <td>640.809998</td>\n",
       "      <td>29005700.0</td>\n",
       "    </tr>\n",
       "    <tr>\n",
       "      <th>2414</th>\n",
       "      <td>31-01-2020</td>\n",
       "      <td>640.000000</td>\n",
       "      <td>653.000000</td>\n",
       "      <td>632.520020</td>\n",
       "      <td>650.570007</td>\n",
       "      <td>650.570007</td>\n",
       "      <td>15719300.0</td>\n",
       "    </tr>\n",
       "    <tr>\n",
       "      <th>2415</th>\n",
       "      <td>03-02-2020</td>\n",
       "      <td>673.690002</td>\n",
       "      <td>786.140015</td>\n",
       "      <td>673.520020</td>\n",
       "      <td>780.000000</td>\n",
       "      <td>780.000000</td>\n",
       "      <td>47065000.0</td>\n",
       "    </tr>\n",
       "  </tbody>\n",
       "</table>\n",
       "<p>2416 rows × 7 columns</p>\n",
       "</div>"
      ],
      "text/plain": [
       "            Date        Open        High         Low       Close   Adj Close  \\\n",
       "0     29-06-2010   19.000000   25.000000   17.540001   23.889999   23.889999   \n",
       "1     30-06-2010   25.790001   30.420000   23.299999   23.830000   23.830000   \n",
       "2     01-07-2010   25.000000   25.920000   20.270000   21.959999   21.959999   \n",
       "3     02-07-2010   23.000000   23.100000   18.709999   19.200001   19.200001   \n",
       "4     06-07-2010   20.000000   20.000000   15.830000   16.110001   16.110001   \n",
       "...          ...         ...         ...         ...         ...         ...   \n",
       "2411  28-01-2020  568.489990  576.809998  558.080017  566.900024  566.900024   \n",
       "2412  29-01-2020  575.690002  589.799988  567.429993  580.989990  580.989990   \n",
       "2413  30-01-2020  632.419983  650.880005  618.000000  640.809998  640.809998   \n",
       "2414  31-01-2020  640.000000  653.000000  632.520020  650.570007  650.570007   \n",
       "2415  03-02-2020  673.690002  786.140015  673.520020  780.000000  780.000000   \n",
       "\n",
       "          Volume  \n",
       "0     18766300.0  \n",
       "1     17187100.0  \n",
       "2      8218800.0  \n",
       "3      5139800.0  \n",
       "4      6866900.0  \n",
       "...          ...  \n",
       "2411  11788500.0  \n",
       "2412  17801500.0  \n",
       "2413  29005700.0  \n",
       "2414  15719300.0  \n",
       "2415  47065000.0  \n",
       "\n",
       "[2416 rows x 7 columns]"
      ]
     },
     "execution_count": 2,
     "metadata": {},
     "output_type": "execute_result"
    }
   ],
   "source": [
    "#2.iMPORTING DATASET\n",
    "data=pd.read_csv(\"Stock.csv\")\n",
    "data"
   ]
  },
  {
   "cell_type": "code",
   "execution_count": 3,
   "id": "f043c30e",
   "metadata": {},
   "outputs": [
    {
     "data": {
      "text/plain": [
       "(2416, 7)"
      ]
     },
     "execution_count": 3,
     "metadata": {},
     "output_type": "execute_result"
    }
   ],
   "source": [
    "data.shape"
   ]
  },
  {
   "cell_type": "code",
   "execution_count": 4,
   "id": "e97f00b5",
   "metadata": {},
   "outputs": [
    {
     "data": {
      "text/plain": [
       "array([['29-06-2010', 19.0, 25.0, 17.540001, 23.889999, 23.889999],\n",
       "       ['30-06-2010', 25.790001, 30.42, 23.299999, 23.83, 23.83],\n",
       "       ['01-07-2010', 25.0, 25.92, 20.27, 21.959999, 21.959999],\n",
       "       ...,\n",
       "       ['30-01-2020', 632.419983, 650.880005, 618.0, 640.809998,\n",
       "        640.809998],\n",
       "       ['31-01-2020', 640.0, 653.0, 632.52002, 650.570007, 650.570007],\n",
       "       ['03-02-2020', 673.690002, 786.140015, 673.52002, 780.0, 780.0]],\n",
       "      dtype=object)"
      ]
     },
     "execution_count": 4,
     "metadata": {},
     "output_type": "execute_result"
    }
   ],
   "source": [
    "#SEPARATE INDEPENDENT VALUES\n",
    "x=data[['Date','Open','High','Low','Close','Adj Close']].values#data.iloc[:,:-1].values\n",
    "x"
   ]
  },
  {
   "cell_type": "code",
   "execution_count": 5,
   "id": "5102eb26",
   "metadata": {},
   "outputs": [
    {
     "data": {
      "text/plain": [
       "array([[18766300.],\n",
       "       [17187100.],\n",
       "       [ 8218800.],\n",
       "       ...,\n",
       "       [29005700.],\n",
       "       [15719300.],\n",
       "       [47065000.]])"
      ]
     },
     "execution_count": 5,
     "metadata": {},
     "output_type": "execute_result"
    }
   ],
   "source": [
    "#DEPENDENT VALUES\n",
    "y=data[['Volume']].values\n",
    "y"
   ]
  },
  {
   "cell_type": "code",
   "execution_count": 6,
   "id": "59657c58",
   "metadata": {},
   "outputs": [
    {
     "name": "stdout",
     "output_type": "stream",
     "text": [
      "Date          0\n",
      "Open          4\n",
      "High          6\n",
      "Low          13\n",
      "Close         5\n",
      "Adj Close     8\n",
      "Volume        8\n",
      "dtype: int64\n"
     ]
    }
   ],
   "source": [
    "#Finding missing values\n",
    "#Find and count the missing values in our dataset\n",
    "print(data.isnull().sum())"
   ]
  },
  {
   "cell_type": "code",
   "execution_count": 7,
   "id": "8801df2f",
   "metadata": {},
   "outputs": [],
   "source": [
    "#drop missing value records- remaining rows are kept as its place\n",
    "data.dropna(inplace=True)"
   ]
  },
  {
   "cell_type": "code",
   "execution_count": 8,
   "id": "748b0ea4",
   "metadata": {},
   "outputs": [
    {
     "data": {
      "text/html": [
       "<div>\n",
       "<style scoped>\n",
       "    .dataframe tbody tr th:only-of-type {\n",
       "        vertical-align: middle;\n",
       "    }\n",
       "\n",
       "    .dataframe tbody tr th {\n",
       "        vertical-align: top;\n",
       "    }\n",
       "\n",
       "    .dataframe thead th {\n",
       "        text-align: right;\n",
       "    }\n",
       "</style>\n",
       "<table border=\"1\" class=\"dataframe\">\n",
       "  <thead>\n",
       "    <tr style=\"text-align: right;\">\n",
       "      <th></th>\n",
       "      <th>Date</th>\n",
       "      <th>Open</th>\n",
       "      <th>High</th>\n",
       "      <th>Low</th>\n",
       "      <th>Close</th>\n",
       "      <th>Adj Close</th>\n",
       "      <th>Volume</th>\n",
       "    </tr>\n",
       "  </thead>\n",
       "  <tbody>\n",
       "    <tr>\n",
       "      <th>0</th>\n",
       "      <td>29-06-2010</td>\n",
       "      <td>19.000000</td>\n",
       "      <td>25.000000</td>\n",
       "      <td>17.540001</td>\n",
       "      <td>23.889999</td>\n",
       "      <td>23.889999</td>\n",
       "      <td>18766300.0</td>\n",
       "    </tr>\n",
       "    <tr>\n",
       "      <th>1</th>\n",
       "      <td>30-06-2010</td>\n",
       "      <td>25.790001</td>\n",
       "      <td>30.420000</td>\n",
       "      <td>23.299999</td>\n",
       "      <td>23.830000</td>\n",
       "      <td>23.830000</td>\n",
       "      <td>17187100.0</td>\n",
       "    </tr>\n",
       "    <tr>\n",
       "      <th>2</th>\n",
       "      <td>01-07-2010</td>\n",
       "      <td>25.000000</td>\n",
       "      <td>25.920000</td>\n",
       "      <td>20.270000</td>\n",
       "      <td>21.959999</td>\n",
       "      <td>21.959999</td>\n",
       "      <td>8218800.0</td>\n",
       "    </tr>\n",
       "    <tr>\n",
       "      <th>3</th>\n",
       "      <td>02-07-2010</td>\n",
       "      <td>23.000000</td>\n",
       "      <td>23.100000</td>\n",
       "      <td>18.709999</td>\n",
       "      <td>19.200001</td>\n",
       "      <td>19.200001</td>\n",
       "      <td>5139800.0</td>\n",
       "    </tr>\n",
       "    <tr>\n",
       "      <th>4</th>\n",
       "      <td>06-07-2010</td>\n",
       "      <td>20.000000</td>\n",
       "      <td>20.000000</td>\n",
       "      <td>15.830000</td>\n",
       "      <td>16.110001</td>\n",
       "      <td>16.110001</td>\n",
       "      <td>6866900.0</td>\n",
       "    </tr>\n",
       "    <tr>\n",
       "      <th>...</th>\n",
       "      <td>...</td>\n",
       "      <td>...</td>\n",
       "      <td>...</td>\n",
       "      <td>...</td>\n",
       "      <td>...</td>\n",
       "      <td>...</td>\n",
       "      <td>...</td>\n",
       "    </tr>\n",
       "    <tr>\n",
       "      <th>2411</th>\n",
       "      <td>28-01-2020</td>\n",
       "      <td>568.489990</td>\n",
       "      <td>576.809998</td>\n",
       "      <td>558.080017</td>\n",
       "      <td>566.900024</td>\n",
       "      <td>566.900024</td>\n",
       "      <td>11788500.0</td>\n",
       "    </tr>\n",
       "    <tr>\n",
       "      <th>2412</th>\n",
       "      <td>29-01-2020</td>\n",
       "      <td>575.690002</td>\n",
       "      <td>589.799988</td>\n",
       "      <td>567.429993</td>\n",
       "      <td>580.989990</td>\n",
       "      <td>580.989990</td>\n",
       "      <td>17801500.0</td>\n",
       "    </tr>\n",
       "    <tr>\n",
       "      <th>2413</th>\n",
       "      <td>30-01-2020</td>\n",
       "      <td>632.419983</td>\n",
       "      <td>650.880005</td>\n",
       "      <td>618.000000</td>\n",
       "      <td>640.809998</td>\n",
       "      <td>640.809998</td>\n",
       "      <td>29005700.0</td>\n",
       "    </tr>\n",
       "    <tr>\n",
       "      <th>2414</th>\n",
       "      <td>31-01-2020</td>\n",
       "      <td>640.000000</td>\n",
       "      <td>653.000000</td>\n",
       "      <td>632.520020</td>\n",
       "      <td>650.570007</td>\n",
       "      <td>650.570007</td>\n",
       "      <td>15719300.0</td>\n",
       "    </tr>\n",
       "    <tr>\n",
       "      <th>2415</th>\n",
       "      <td>03-02-2020</td>\n",
       "      <td>673.690002</td>\n",
       "      <td>786.140015</td>\n",
       "      <td>673.520020</td>\n",
       "      <td>780.000000</td>\n",
       "      <td>780.000000</td>\n",
       "      <td>47065000.0</td>\n",
       "    </tr>\n",
       "  </tbody>\n",
       "</table>\n",
       "<p>2376 rows × 7 columns</p>\n",
       "</div>"
      ],
      "text/plain": [
       "            Date        Open        High         Low       Close   Adj Close  \\\n",
       "0     29-06-2010   19.000000   25.000000   17.540001   23.889999   23.889999   \n",
       "1     30-06-2010   25.790001   30.420000   23.299999   23.830000   23.830000   \n",
       "2     01-07-2010   25.000000   25.920000   20.270000   21.959999   21.959999   \n",
       "3     02-07-2010   23.000000   23.100000   18.709999   19.200001   19.200001   \n",
       "4     06-07-2010   20.000000   20.000000   15.830000   16.110001   16.110001   \n",
       "...          ...         ...         ...         ...         ...         ...   \n",
       "2411  28-01-2020  568.489990  576.809998  558.080017  566.900024  566.900024   \n",
       "2412  29-01-2020  575.690002  589.799988  567.429993  580.989990  580.989990   \n",
       "2413  30-01-2020  632.419983  650.880005  618.000000  640.809998  640.809998   \n",
       "2414  31-01-2020  640.000000  653.000000  632.520020  650.570007  650.570007   \n",
       "2415  03-02-2020  673.690002  786.140015  673.520020  780.000000  780.000000   \n",
       "\n",
       "          Volume  \n",
       "0     18766300.0  \n",
       "1     17187100.0  \n",
       "2      8218800.0  \n",
       "3      5139800.0  \n",
       "4      6866900.0  \n",
       "...          ...  \n",
       "2411  11788500.0  \n",
       "2412  17801500.0  \n",
       "2413  29005700.0  \n",
       "2414  15719300.0  \n",
       "2415  47065000.0  \n",
       "\n",
       "[2376 rows x 7 columns]"
      ]
     },
     "execution_count": 8,
     "metadata": {},
     "output_type": "execute_result"
    }
   ],
   "source": [
    "data"
   ]
  },
  {
   "cell_type": "code",
   "execution_count": 9,
   "id": "959c8a4a",
   "metadata": {},
   "outputs": [],
   "source": [
    "#simple imputer-filled missing values in numerical\n",
    "from sklearn.impute import SimpleImputer"
   ]
  },
  {
   "cell_type": "code",
   "execution_count": 10,
   "id": "bca50fca",
   "metadata": {},
   "outputs": [],
   "source": [
    "imputer=SimpleImputer(missing_values=np.nan,strategy='mean')"
   ]
  },
  {
   "cell_type": "code",
   "execution_count": 11,
   "id": "50365bd1",
   "metadata": {},
   "outputs": [],
   "source": [
    "# Fit- we split our data into training and testing adjusts weights according to data values for better accuracy\n",
    "imputer=imputer.fit(x[:,1:3])"
   ]
  },
  {
   "cell_type": "code",
   "execution_count": 12,
   "id": "f64c6f6e",
   "metadata": {},
   "outputs": [
    {
     "data": {
      "text/plain": [
       "array([['29-06-2010', 19.0, 25.0, 17.540001, 23.889999, 23.889999],\n",
       "       ['30-06-2010', 25.790001, 30.42, 23.299999, 23.83, 23.83],\n",
       "       ['01-07-2010', 25.0, 25.92, 20.27, 21.959999, 21.959999],\n",
       "       ...,\n",
       "       ['30-01-2020', 632.419983, 650.880005, 618.0, 640.809998,\n",
       "        640.809998],\n",
       "       ['31-01-2020', 640.0, 653.0, 632.52002, 650.570007, 650.570007],\n",
       "       ['03-02-2020', 673.690002, 786.140015, 673.52002, 780.0, 780.0]],\n",
       "      dtype=object)"
      ]
     },
     "execution_count": 12,
     "metadata": {},
     "output_type": "execute_result"
    }
   ],
   "source": [
    "#transform calculate the mean value\n",
    "x[:,1:3]=imputer.transform(x[:,1:3])\n",
    "x"
   ]
  },
  {
   "cell_type": "code",
   "execution_count": 13,
   "id": "7418a3e8",
   "metadata": {},
   "outputs": [],
   "source": [
    "#4.ENCODING CATEGORICAL VALUES Label encoder- each unique values it gives an index like 1,2,3\n",
    "#One hot encoder- take an each index value to add one feature\n",
    "from sklearn.preprocessing import LabelEncoder"
   ]
  },
  {
   "cell_type": "code",
   "execution_count": 14,
   "id": "e64aa341",
   "metadata": {},
   "outputs": [],
   "source": [
    "label_encode_x=LabelEncoder()\n",
    "label_encode_y=LabelEncoder()"
   ]
  },
  {
   "cell_type": "code",
   "execution_count": 15,
   "id": "987276d4",
   "metadata": {},
   "outputs": [
    {
     "data": {
      "text/plain": [
       "array([[2246, 19.0, 25.0, 17.540001, 23.889999, 23.889999],\n",
       "       [2319, 25.790001, 30.42, 23.299999, 23.83, 23.83],\n",
       "       [33, 25.0, 25.92, 20.27, 21.959999, 21.959999],\n",
       "       ...,\n",
       "       [2301, 632.419983, 650.880005, 618.0, 640.809998, 640.809998],\n",
       "       [2374, 640.0, 653.0, 632.52002, 650.570007, 650.570007],\n",
       "       [166, 673.690002, 786.140015, 673.52002, 780.0, 780.0]],\n",
       "      dtype=object)"
      ]
     },
     "execution_count": 15,
     "metadata": {},
     "output_type": "execute_result"
    }
   ],
   "source": [
    "x[:,0]=label_encode_x.fit_transform(x[:,0])\n",
    "x"
   ]
  },
  {
   "cell_type": "code",
   "execution_count": 19,
   "id": "26b98d20",
   "metadata": {},
   "outputs": [
    {
     "data": {
      "text/plain": [
       "array(['01-02-2011', '01-02-2012', '01-02-2013', ..., '31-12-2015',\n",
       "       '31-12-2018', '31-12-2019'], dtype=object)"
      ]
     },
     "execution_count": 19,
     "metadata": {},
     "output_type": "execute_result"
    }
   ],
   "source": [
    "label_encode_x.classes_"
   ]
  },
  {
   "cell_type": "code",
   "execution_count": 20,
   "id": "8cee8968",
   "metadata": {},
   "outputs": [
    {
     "name": "stderr",
     "output_type": "stream",
     "text": [
      "C:\\Users\\selvi Murugan\\anaconda3\\lib\\site-packages\\sklearn\\preprocessing\\_label.py:115: DataConversionWarning: A column-vector y was passed when a 1d array was expected. Please change the shape of y to (n_samples, ), for example using ravel().\n",
      "  y = column_or_1d(y, warn=True)\n"
     ]
    },
    {
     "data": {
      "text/plain": [
       "array([2313, 2290, 1911, ..., 2371, 2275, 2382], dtype=int64)"
      ]
     },
     "execution_count": 20,
     "metadata": {},
     "output_type": "execute_result"
    }
   ],
   "source": [
    "y=label_encode_y.fit_transform(y)\n",
    "y"
   ]
  },
  {
   "cell_type": "code",
   "execution_count": 21,
   "id": "883344d5",
   "metadata": {},
   "outputs": [],
   "source": [
    "#SPLITTING DATASET INTO TRAINING AND TESTING\n",
    "from sklearn.model_selection import train_test_split"
   ]
  },
  {
   "cell_type": "code",
   "execution_count": 22,
   "id": "124a746e",
   "metadata": {},
   "outputs": [],
   "source": [
    "x_train,x_test,y_train,y_test=train_test_split(x,y,test_size=0.25,random_state=1)"
   ]
  },
  {
   "cell_type": "code",
   "execution_count": 23,
   "id": "c663007b",
   "metadata": {},
   "outputs": [
    {
     "name": "stdout",
     "output_type": "stream",
     "text": [
      "[[42 135.0 136.520004 132.630005 135.550003 135.550003]\n",
      " [1312 217.809998 219.990005 214.5 215.470001 215.470001]\n",
      " [569 260.5 260.820007 248.020004 250.070007 250.070007]\n",
      " ...\n",
      " [292 240.490005 242.350006 236.529999 238.929993 238.929993]\n",
      " [185 29.950001 31.5 29.5 30.129999 30.129999]\n",
      " [1252 255.149994 262.459991 252.419998 260.73999 260.73999]]\n",
      "[[756 29.309999 29.940001 29.309999 29.940001 29.940001]\n",
      " [1446 241.389999 241.550003 233.509995 235.839996 235.839996]\n",
      " [928 364.48999 368.76001 360.399994 362.75 362.75]\n",
      " ...\n",
      " [1365 172.419998 172.949997 164.770004 166.770004 166.770004]\n",
      " [907 222.949997 223.380005 209.0 209.259995 209.259995]\n",
      " [2339 229.149994 232.440002 224.210007 225.610001 225.610001]]\n",
      "[1373  814 1787 ...  949 1576 1922]\n",
      "[ 164 1314 1528  226 1909 2257 1240 1014 1854 2348 1943   91 1604  222\n",
      " 1281 1615  128  383 2333  265 1755 1457  373  132 1834 1963  785  140\n",
      " 1952   86   69 1307 2200  819 1126 2339  812 1924 1451  342  883 1513\n",
      " 2194  418 1689  444  388  602  983  598 1785  827 2006  633 1691  778\n",
      "  601  592  872   83 1863 1094 1953  355 1731 1232  136 1888  523 1766\n",
      "  844  268 2286 1166 1032 2332 1574 1544   66  864  775 1527 1503  549\n",
      "  789 2353  430  212 1098 2298  817 2163 1751  624  407 1049 1892 2138\n",
      " 1617 1341 1792  868  965  639 1657 1640 1707 1918  649  447 1226  820\n",
      " 1906 2380 1435  421 2125 1558 1700 1490   30 2087  394  126 2243  414\n",
      " 1051  839  278  635  875 2110  566 1590 1729  694  923   46  888  677\n",
      " 2146  938  835    2 1504  436 1893 1557  219 1230  209  836  437  640\n",
      " 1482  365 2210 1706  829 1496 1378 1277 1940 1710 1807 1018 1042 1147\n",
      " 1905 1994 1062  548 1636  288  214  698  371 2003 1447  229 1611 1770\n",
      "  133  831 1321  486  487 1322 2128 1662 2299 1898  948 2176 2022 1289\n",
      " 2181  738 1191 1992 1353 1858  582  255 1074 1022  802 2219 2148 2234\n",
      " 2366  730  482 2233 2304  122  376 2362 1982 1639 1857 2335  725 1046\n",
      " 2223  379 1507 1516  921 1151  593 1440 1102 2382 2065 2096  393  157\n",
      "  946  539  179 1884 1959 1155 1538 1505 1023 1602 1815 1054 1901 1954\n",
      " 2195 1139  480 1170 1287  104 2251 1200 1939  405 1262 2336 1811 2157\n",
      "  189  110 1021 2288 1652 2077  254 1573 1497 2222 2052 2158 1679  885\n",
      "  453 2331 2173 2048 1971 2264 1312 2273   57 1968 1990  334 1276  519\n",
      "  158 2383 1058  759  244   92 1764 1364 2020   15 1442 1266 1960 1253\n",
      "  952 1029  302 1088  243 1308 2093  529 1936  758 1536 1742  496  745\n",
      " 1119  850 1629 2160  499  837 2300 2143 2350  676  551 1688 1684  194\n",
      "  858  271  236  887  920 1121 2021 2118  632 2120 1001 2275 2024 1472\n",
      " 1413 1823 1291  659 1916 1408 1008 1377  630  769 1213  489  703  684\n",
      " 1605 1405  521 1562  528 1709 2226  313 2376 1567 1444 1083 1983 1159\n",
      "  442 1995  460  646 1685 2151 2101 2358  556 2135 2206 1455  369 2371\n",
      " 2177 1228 1988  512  558 2213 1747  838 1288  522  319 1763  230  251\n",
      "  967  567 1745 2188 1748  550  655 1616  314  518   53 1391 2088  233\n",
      "  287  908  346  893  788 2261 1464  803 1945 1949 1580  537  303  981\n",
      " 1100 1227  587 2075 2227  936  731 1829 2134 2345 2085 2175 2011  509\n",
      "  294  569 1208  186   77  360  705  682  737  680 1537 1717 1409 1316\n",
      "  151 2379 1708  623   13  417 1190  476  348 1333  911 1869 2290  210\n",
      " 2375  951 2349 1025  554 1258  917  828   64  147  477 1255 1915  520\n",
      " 1310  440 1067  919 1224   51 1206 1163 1647 1397 1350  264 1856 1084\n",
      " 2178  410 1931  673 1061 1690 2149  749  661 1175 1889 2081 2187 1480\n",
      " 1157 1406 1591  237 1667 2100 1877 2237  404 2097  279  336  473 1330\n",
      "  562  704 1243 1719 1549 1400   94 1081 1883 1412  331  847 1669  345\n",
      "  252 1439 1874 1864 1833  207  540 2224 1096  863 1055  175 2182 1209\n",
      " 1890  604  367  451 2252  826 1063  958 1453 2090  768  419  833 1847\n",
      "  505  824 1192  895 2218 1130  927  961  636  729 1250  392  174 1459\n",
      "  683 1610 2046 1422 1633 1501 1825 2250 2321  144 1340 2060 2193 1007\n",
      " 2270 2025]\n"
     ]
    }
   ],
   "source": [
    "print(x_train)\n",
    "print(x_test)\n",
    "print(y_train)\n",
    "print(y_test)"
   ]
  },
  {
   "cell_type": "code",
   "execution_count": 24,
   "id": "1b5390c5",
   "metadata": {},
   "outputs": [],
   "source": [
    "#6.FEATURE SCALING\n",
    "from sklearn.preprocessing import StandardScaler"
   ]
  },
  {
   "cell_type": "code",
   "execution_count": 25,
   "id": "ad9932ad",
   "metadata": {},
   "outputs": [
    {
     "name": "stdout",
     "output_type": "stream",
     "text": [
      "[[-1.67458618 -0.43190346 -0.44104486 -0.43339256 -0.42857201 -0.4305035 ]\n",
      " [ 0.14730613  0.27027887  0.25728995  0.27108327  0.24958074  0.24630713]\n",
      " [-0.9185726   0.63226614  0.59888588  0.55951657  0.54317546  0.5393208 ]\n",
      " ...\n",
      " [-1.31594596  0.46259261  0.44436036  0.46064725  0.44864804  0.44498046]\n",
      " [-1.46944397 -1.32266853 -1.3196734  -1.32080676 -1.32310239 -1.32326352]\n",
      " [ 0.06123247  0.58690109  0.61260647  0.59737768  0.63371448  0.62968063]]\n",
      "[[-0.63858959 -1.3145429  -1.30810361 -1.30839941 -1.29635215 -1.29590786]\n",
      " [ 0.34924923  0.44320781  0.40647138  0.41249486  0.39384962  0.39201032]\n",
      " [-0.39234571  1.46347893  1.43719344  1.48185958  1.43563456  1.43238772]\n",
      " ...\n",
      " [ 0.23328555 -0.12842586 -0.14936177 -0.16681101 -0.17313545 -0.17420871]\n",
      " [-0.42241037  0.29037432  0.25924855  0.20593702  0.17565843  0.17411392]\n",
      " [ 1.6277131   0.34176082  0.33265738  0.33411926  0.30987315  0.3081473 ]]\n"
     ]
    }
   ],
   "source": [
    "scaler=StandardScaler()\n",
    "x_train=scaler.fit_transform(x_train)\n",
    "x_test=scaler.fit_transform(x_test)\n",
    "print(x_train)\n",
    "print(x_test)"
   ]
  },
  {
   "cell_type": "code",
   "execution_count": null,
   "id": "b180d3aa",
   "metadata": {},
   "outputs": [],
   "source": []
  }
 ],
 "metadata": {
  "kernelspec": {
   "display_name": "Python 3 (ipykernel)",
   "language": "python",
   "name": "python3"
  },
  "language_info": {
   "codemirror_mode": {
    "name": "ipython",
    "version": 3
   },
   "file_extension": ".py",
   "mimetype": "text/x-python",
   "name": "python",
   "nbconvert_exporter": "python",
   "pygments_lexer": "ipython3",
   "version": "3.9.12"
  }
 },
 "nbformat": 4,
 "nbformat_minor": 5
}
